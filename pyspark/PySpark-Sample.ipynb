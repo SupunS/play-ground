{
 "cells": [
  {
   "cell_type": "code",
   "execution_count": 1,
   "metadata": {
    "collapsed": false
   },
   "outputs": [
    {
     "name": "stdout",
     "output_type": "stream",
     "text": [
      "spark://172.17.0.1:7077\n"
     ]
    }
   ],
   "source": [
    "from pyspark import SparkContext, SparkConf, SQLContext\n",
    "\n",
    "# Set the additional propeties.\n",
    "sparkConf = (SparkConf()\n",
    "             .set(key=\"carbon.insert.batch.size\", value=\"1000\")\n",
    "             .set(key=\"spark.driver.allowMultipleContexts\",value=\"true\")\n",
    "             .set(key=\"spark.executor.extraJavaOptions\", value=\"-Dwso2_custom_conf_dir=/home/supun/Downloads/wso2das-3.1.0/repository/conf\"))\n",
    "\n",
    "# Stop the default SparkContext created by pyspark. And create a new SparkContext using the above SparkConf.\n",
    "sc.stop()\n",
    "sparkCtx = SparkContext(conf=sparkConf)\n",
    "\n",
    "# Check spark master.\n",
    "print(sparkConf.get(\"spark.master\"));"
   ]
  },
  {
   "cell_type": "code",
   "execution_count": 2,
   "metadata": {
    "collapsed": false
   },
   "outputs": [],
   "source": [
    "sqlCtx = SQLContext(sparkCtx)\n",
    "\n",
    "sqlCtx.sql('CREATE TEMPORARY TABLE table1 ' +\n",
    "           'USING org.wso2.carbon.analytics.spark.core.sources.AnalyticsRelationProvider ' +\n",
    "           'OPTIONS (tenantId \"-1234\", tableName \"IRIS_DATA_STREAM\")')\n",
    "\n",
    "df = sqlCtx.sql(\"SELECT * FROM table1\");"
   ]
  },
  {
   "cell_type": "code",
   "execution_count": 15,
   "metadata": {
    "collapsed": false,
    "scrolled": true
   },
   "outputs": [
    {
     "name": "stdout",
     "output_type": "stream",
     "text": [
      "+------------+-----------+------------+-----------+---------------+\n",
      "|sepal_length|sepal_width|petal_length|petal_width|          class|\n",
      "+------------+-----------+------------+-----------+---------------+\n",
      "|         4.9|        3.0|         1.4|        0.2|    Iris-setosa|\n",
      "|         4.3|        3.0|         1.1|        0.1|    Iris-setosa|\n",
      "|         5.1|        3.5|         1.4|        0.3|    Iris-setosa|\n",
      "|         5.1|        3.8|         1.5|        0.3|    Iris-setosa|\n",
      "|         5.2|        3.4|         1.4|        0.2|    Iris-setosa|\n",
      "|         4.4|        3.0|         1.3|        0.2|    Iris-setosa|\n",
      "|         5.1|        3.4|         1.5|        0.2|    Iris-setosa|\n",
      "|         5.5|        2.3|         4.0|        1.3|Iris-versicolor|\n",
      "|         5.7|        2.8|         4.5|        1.3|Iris-versicolor|\n",
      "|         5.6|        2.9|         3.6|        1.3|Iris-versicolor|\n",
      "|         6.2|        2.2|         4.5|        1.5|Iris-versicolor|\n",
      "|         5.9|        3.2|         4.8|        1.8|Iris-versicolor|\n",
      "|         6.1|        2.8|         4.7|        1.2|Iris-versicolor|\n",
      "|         6.4|        2.9|         4.3|        1.3|Iris-versicolor|\n",
      "|         5.8|        2.6|         4.0|        1.2|Iris-versicolor|\n",
      "|         6.2|        2.9|         4.3|        1.3|Iris-versicolor|\n",
      "|         5.7|        2.8|         4.1|        1.3|Iris-versicolor|\n",
      "|         4.9|        2.5|         4.5|        1.7| Iris-virginica|\n",
      "|         7.7|        2.8|         6.7|        2.0| Iris-virginica|\n",
      "|         7.2|        3.0|         5.8|        1.6| Iris-virginica|\n",
      "+------------+-----------+------------+-----------+---------------+\n",
      "only showing top 20 rows\n",
      "\n"
     ]
    }
   ],
   "source": [
    "df.show()"
   ]
  },
  {
   "cell_type": "code",
   "execution_count": 6,
   "metadata": {
    "collapsed": false
   },
   "outputs": [
    {
     "name": "stdout",
     "output_type": "stream",
     "text": [
      "+------------+-----------+------------+-----------+---------------+-----------------+\n",
      "|sepal_length|sepal_width|petal_length|petal_width|          class|         features|\n",
      "+------------+-----------+------------+-----------+---------------+-----------------+\n",
      "|         4.9|        3.0|         1.4|        0.2|    Iris-setosa|[4.9,3.0,1.4,0.2]|\n",
      "|         4.3|        3.0|         1.1|        0.1|    Iris-setosa|[4.3,3.0,1.1,0.1]|\n",
      "|         5.1|        3.5|         1.4|        0.3|    Iris-setosa|[5.1,3.5,1.4,0.3]|\n",
      "|         5.1|        3.8|         1.5|        0.3|    Iris-setosa|[5.1,3.8,1.5,0.3]|\n",
      "|         5.2|        3.4|         1.4|        0.2|    Iris-setosa|[5.2,3.4,1.4,0.2]|\n",
      "|         4.4|        3.0|         1.3|        0.2|    Iris-setosa|[4.4,3.0,1.3,0.2]|\n",
      "|         5.1|        3.4|         1.5|        0.2|    Iris-setosa|[5.1,3.4,1.5,0.2]|\n",
      "|         5.5|        2.3|         4.0|        1.3|Iris-versicolor|[5.5,2.3,4.0,1.3]|\n",
      "|         5.7|        2.8|         4.5|        1.3|Iris-versicolor|[5.7,2.8,4.5,1.3]|\n",
      "|         5.6|        2.9|         3.6|        1.3|Iris-versicolor|[5.6,2.9,3.6,1.3]|\n",
      "|         6.2|        2.2|         4.5|        1.5|Iris-versicolor|[6.2,2.2,4.5,1.5]|\n",
      "|         5.9|        3.2|         4.8|        1.8|Iris-versicolor|[5.9,3.2,4.8,1.8]|\n",
      "|         6.1|        2.8|         4.7|        1.2|Iris-versicolor|[6.1,2.8,4.7,1.2]|\n",
      "|         6.4|        2.9|         4.3|        1.3|Iris-versicolor|[6.4,2.9,4.3,1.3]|\n",
      "|         5.8|        2.6|         4.0|        1.2|Iris-versicolor|[5.8,2.6,4.0,1.2]|\n",
      "|         6.2|        2.9|         4.3|        1.3|Iris-versicolor|[6.2,2.9,4.3,1.3]|\n",
      "|         5.7|        2.8|         4.1|        1.3|Iris-versicolor|[5.7,2.8,4.1,1.3]|\n",
      "|         4.9|        2.5|         4.5|        1.7| Iris-virginica|[4.9,2.5,4.5,1.7]|\n",
      "|         7.7|        2.8|         6.7|        2.0| Iris-virginica|[7.7,2.8,6.7,2.0]|\n",
      "|         7.2|        3.0|         5.8|        1.6| Iris-virginica|[7.2,3.0,5.8,1.6]|\n",
      "+------------+-----------+------------+-----------+---------------+-----------------+\n",
      "only showing top 20 rows\n",
      "\n",
      "+---------------+-----------------+\n",
      "|          label|         features|\n",
      "+---------------+-----------------+\n",
      "|    Iris-setosa|[4.9,3.0,1.4,0.2]|\n",
      "|    Iris-setosa|[4.3,3.0,1.1,0.1]|\n",
      "|    Iris-setosa|[5.1,3.5,1.4,0.3]|\n",
      "|    Iris-setosa|[5.1,3.8,1.5,0.3]|\n",
      "|    Iris-setosa|[5.2,3.4,1.4,0.2]|\n",
      "|    Iris-setosa|[4.4,3.0,1.3,0.2]|\n",
      "|    Iris-setosa|[5.1,3.4,1.5,0.2]|\n",
      "|Iris-versicolor|[5.5,2.3,4.0,1.3]|\n",
      "|Iris-versicolor|[5.7,2.8,4.5,1.3]|\n",
      "|Iris-versicolor|[5.6,2.9,3.6,1.3]|\n",
      "|Iris-versicolor|[6.2,2.2,4.5,1.5]|\n",
      "|Iris-versicolor|[5.9,3.2,4.8,1.8]|\n",
      "|Iris-versicolor|[6.1,2.8,4.7,1.2]|\n",
      "|Iris-versicolor|[6.4,2.9,4.3,1.3]|\n",
      "|Iris-versicolor|[5.8,2.6,4.0,1.2]|\n",
      "|Iris-versicolor|[6.2,2.9,4.3,1.3]|\n",
      "|Iris-versicolor|[5.7,2.8,4.1,1.3]|\n",
      "| Iris-virginica|[4.9,2.5,4.5,1.7]|\n",
      "| Iris-virginica|[7.7,2.8,6.7,2.0]|\n",
      "| Iris-virginica|[7.2,3.0,5.8,1.6]|\n",
      "+---------------+-----------------+\n",
      "only showing top 20 rows\n",
      "\n",
      "root\n",
      " |-- label: string (nullable = true)\n",
      " |-- features: vector (nullable = true)\n",
      "\n"
     ]
    }
   ],
   "source": [
    "from pyspark.ml.feature import VectorAssembler\n",
    "from pyspark.mllib.feature import LabeledPoint\n",
    "from pyspark.sql.functions import col\n",
    "\n",
    "assembler = VectorAssembler(inputCols=[\"sepal_length\", \"sepal_width\", \"petal_length\", \"petal_width\"],\n",
    "                            outputCol=\"features\")\n",
    "\n",
    "assembledDf = assembler.transform(df)\n",
    "\n",
    "assembledDf.show()\n",
    "\n",
    "transformedDf = assembledDf.select(col(\"class\").alias(\"label\"), col(\"features\"))\n",
    "\n",
    "transformedDf.show()\n",
    "transformedDf.printSchema()"
   ]
  },
  {
   "cell_type": "code",
   "execution_count": 8,
   "metadata": {
    "collapsed": true
   },
   "outputs": [],
   "source": [
    "# Training Model\n",
    "\n",
    "from pyspark.ml import Pipeline\n",
    "from pyspark.ml.classification import RandomForestClassifier\n",
    "from pyspark.ml.feature import StringIndexer, VectorIndexer\n",
    "from pyspark.ml.evaluation import MulticlassClassificationEvaluator\n",
    "\n",
    "labelIndexer = StringIndexer(inputCol=\"label\", outputCol=\"indexedLabel\").fit(transformedDf)\n",
    "\n",
    "featureIndexer = VectorIndexer(inputCol=\"features\", outputCol=\"indexedFeatures\", maxCategories=4).fit(transformedDf)\n",
    "\n",
    "\n",
    "# Split the data into training and test sets (30% held out for testing)\n",
    "(trainingData, testData) = transformedDf.randomSplit([0.7, 0.3])\n",
    "\n",
    "rf = RandomForestClassifier(labelCol=\"indexedLabel\", featuresCol=\"indexedFeatures\")\n",
    "\n",
    "# Chain indexers and forest in a Pipeline\n",
    "pipeline = Pipeline(stages=[labelIndexer, featureIndexer, rf])\n",
    "\n",
    "# Train model.  This also runs the indexers.\n",
    "model = pipeline.fit(trainingData)"
   ]
  },
  {
   "cell_type": "code",
   "execution_count": 19,
   "metadata": {
    "collapsed": false
   },
   "outputs": [
    {
     "name": "stdout",
     "output_type": "stream",
     "text": [
      "+----------+------------+-----------------+\n",
      "|prediction|indexedLabel|         features|\n",
      "+----------+------------+-----------------+\n",
      "|       2.0|         2.0|[4.3,3.0,1.1,0.1]|\n",
      "|       2.0|         2.0|[4.9,3.0,1.4,0.2]|\n",
      "|       2.0|         2.0|[5.1,3.5,1.4,0.3]|\n",
      "|       2.0|         2.0|[5.1,3.8,1.5,0.3]|\n",
      "|       1.0|         0.0|[5.9,3.2,4.8,1.8]|\n",
      "+----------+------------+-----------------+\n",
      "only showing top 5 rows\n",
      "\n",
      "Accuracy =  88.89%\n",
      "RandomForestClassificationModel (uid=rfc_f2cf88040597) with 20 trees\n"
     ]
    }
   ],
   "source": [
    "# Make predictions.\n",
    "predictions = model.transform(testData)\n",
    "\n",
    "# Select sample rows to display.\n",
    "predictions.select(\"prediction\", \"indexedLabel\", \"features\").show(5)\n",
    "\n",
    "# Select (prediction, true label) and compute test error\n",
    "evaluator = MulticlassClassificationEvaluator(labelCol=\"indexedLabel\", predictionCol=\"prediction\", metricName=\"precision\")\n",
    "accuracy = evaluator.evaluate(predictions)\n",
    "\n",
    "print(\"Accuracy =  \" + str(round(accuracy*100, 2)) + \"%\")\n",
    "\n",
    "rfModel = model.stages[2]\n",
    "print(rfModel)"
   ]
  },
  {
   "cell_type": "code",
   "execution_count": null,
   "metadata": {
    "collapsed": true
   },
   "outputs": [],
   "source": []
  }
 ],
 "metadata": {
  "kernelspec": {
   "display_name": "Python 3",
   "language": "python",
   "name": "python3"
  },
  "language_info": {
   "codemirror_mode": {
    "name": "ipython",
    "version": 3
   },
   "file_extension": ".py",
   "mimetype": "text/x-python",
   "name": "python",
   "nbconvert_exporter": "python",
   "pygments_lexer": "ipython3",
   "version": "3.5.1"
  }
 },
 "nbformat": 4,
 "nbformat_minor": 0
}
