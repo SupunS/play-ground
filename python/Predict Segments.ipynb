{
 "cells": [
  {
   "cell_type": "code",
   "execution_count": 13,
   "metadata": {},
   "outputs": [],
   "source": [
    "import pandas as pd\n",
    "\n",
    "from sklearn.neural_network import MLPClassifier\n",
    "from sklearn.ensemble import GradientBoostingRegressor, RandomForestRegressor, RandomForestClassifier\n",
    "import xgboost\n",
    "from sklearn.metrics import mean_squared_error\n",
    "import numpy as np\n",
    "from numpy import linspace\n",
    "import matplotlib.pyplot as plt\n",
    "from sklearn.preprocessing import MinMaxScaler, LabelEncoder, OneHotEncoder, label_binarize\n",
    "from sklearn.pipeline import Pipeline, FeatureUnion\n",
    "from sklearn.base import BaseEstimator, TransformerMixin\n",
    "from sklearn.linear_model import LinearRegression, BayesianRidge, Ridge, Lasso, LogisticRegression\n",
    "from sklearn.feature_extraction.text import CountVectorizer\n",
    "\n",
    "from sklearn.multioutput import MultiOutputRegressor\n",
    "from sklearn.svm import SVC\n",
    "from sklearn.multiclass import OneVsRestClassifier\n"
   ]
  },
  {
   "cell_type": "code",
   "execution_count": 118,
   "metadata": {},
   "outputs": [],
   "source": [
    "# Read the cleaned data\n",
    "trainDataOriginal = pd.read_csv('train_data.csv')\n",
    "testDataOriginal = pd.read_csv('test_data.csv')\n",
    "\n",
    "trainData = trainDataOriginal[trainDataOriginal['balls_remaining'] < 300]\n",
    "testData = testDataOriginal[testDataOriginal['balls_remaining'] < 300]\n",
    "\n",
    "# trainData = trainData[trainData['balls_remaining'] > 240]\n",
    "# testData = trainData[trainData['balls_remaining'] > 240]\n",
    "\n",
    "trainData = trainData[trainData['inning'] == 1]\n",
    "testData = testData[testData['inning'] == 1]"
   ]
  },
  {
   "cell_type": "code",
   "execution_count": 119,
   "metadata": {},
   "outputs": [],
   "source": [
    "def per_over_transformer(inputDF):\n",
    "    outputDF = []\n",
    "    outputDF.append(inputDF['innings_no'].iloc[0])\n",
    "    outputDF.append(inputDF['inning'].iloc[0])\n",
    "    outputDF.append(inputDF['runs'].sum())\n",
    "    outputDF.append(inputDF['over'].iloc[-1])\n",
    "    outputDF.append(inputDF['wicket'].sum())\n",
    "    outputDF.append(inputDF['batting_team'].iloc[0])\n",
    "    outputDF.append(inputDF['opponent'].iloc[0])\n",
    "    outputDF.append(inputDF['wickets'].iloc[-1])\n",
    "    outputDF.append(inputDF['current_score'].max())\n",
    "    return pd.Series(outputDF, index=['innings_no', 'inning', 'runs_in_segment', 'over', 'wickets_in_segment', \n",
    "                               'batting_team', 'opponent', 'wickets', 'current_score'])"
   ]
  },
  {
   "cell_type": "code",
   "execution_count": 120,
   "metadata": {},
   "outputs": [],
   "source": [
    "segment_size = 5\n",
    "def segmenter(inputDF):\n",
    "    outputDF = []\n",
    "    outputDF.append(inputDF['innings_no'].iloc[0])\n",
    "    outputDF.append(inputDF['inning'].iloc[0])\n",
    "    outputDF.append(inputDF['runs_in_segment'].sum().astype(int))\n",
    "    outputDF.append(np.ceil(inputDF['over'].iloc[-1] / segment_size).astype(int))\n",
    "    outputDF.append(inputDF['wickets_in_segment'].sum())\n",
    "    outputDF.append(inputDF['batting_team'].iloc[0])\n",
    "    outputDF.append(inputDF['opponent'].iloc[0])\n",
    "    outputDF.append(inputDF['wickets'].iloc[-1])\n",
    "    outputDF.append(inputDF['current_score'].max())\n",
    "    return pd.Series(outputDF, index=['innings_no', 'inning', 'runs_in_segment', 'over', 'wickets_in_segment', \n",
    "                               'batting_team', 'opponent', 'wickets', 'current_score'])"
   ]
  },
  {
   "cell_type": "code",
   "execution_count": 121,
   "metadata": {},
   "outputs": [],
   "source": [
    "def segment_data(input_data):\n",
    "    all_innings = input_data['innings_no'].unique()\n",
    "\n",
    "    all_data = []\n",
    "    for inning_id in all_innings:\n",
    "        current_inning = input_data[input_data['innings_no'] == inning_id]\n",
    "\n",
    "        per_over_data = current_inning.groupby(['over']).apply(per_over_transformer)\n",
    "        per_over_data.reset_index(drop=True, inplace=True)\n",
    "        segmented_data = per_over_data.groupby(per_over_data.index // segment_size).apply(segmenter)\n",
    "\n",
    "        segmented_data['prev_seg_runs'] = segmented_data['runs_in_segment'].shift(1)\n",
    "        segmented_data['prev_seg_wickets'] = segmented_data['wickets_in_segment'].shift(1)\n",
    "        segmented_data['wickets_at_start'] = segmented_data['wickets'].shift(1)\n",
    "        segmented_data['score_at_start'] = segmented_data['current_score'].shift(1)\n",
    "        segmented_data = segmented_data.fillna(0)\n",
    "    \n",
    "        all_data.append(segmented_data)\n",
    "\n",
    "    data = pd.concat(all_data, ignore_index=True)\n",
    "    data.reset_index(drop=True, inplace=True)\n",
    "\n",
    "    # Encode batting team and opponent\n",
    "    encodedBattingTeam = pd.get_dummies(data['batting_team'], prefix='country');\n",
    "    encodedOpponent = pd.get_dummies(data['opponent'], prefix='opponent');\n",
    "\n",
    "    # Join the new columns with the original dataframe\n",
    "    data = pd.concat([data, encodedBattingTeam], axis=1)\n",
    "    data = pd.concat([data, encodedOpponent], axis=1)\n",
    "\n",
    "    return data.drop(['batting_team', 'opponent', 'wickets', 'current_score'], axis=1)"
   ]
  },
  {
   "cell_type": "code",
   "execution_count": 122,
   "metadata": {},
   "outputs": [],
   "source": [
    "segmented_train_data = segment_data(trainData)\n",
    "segmented_test_data = segment_data(testData)"
   ]
  },
  {
   "cell_type": "code",
   "execution_count": 7,
   "metadata": {},
   "outputs": [
    {
     "data": {
      "text/html": [
       "<div>\n",
       "<style scoped>\n",
       "    .dataframe tbody tr th:only-of-type {\n",
       "        vertical-align: middle;\n",
       "    }\n",
       "\n",
       "    .dataframe tbody tr th {\n",
       "        vertical-align: top;\n",
       "    }\n",
       "\n",
       "    .dataframe thead th {\n",
       "        text-align: right;\n",
       "    }\n",
       "</style>\n",
       "<table border=\"1\" class=\"dataframe\">\n",
       "  <thead>\n",
       "    <tr style=\"text-align: right;\">\n",
       "      <th></th>\n",
       "      <th>innings_no</th>\n",
       "      <th>inning</th>\n",
       "      <th>runs_in_segment</th>\n",
       "      <th>over</th>\n",
       "      <th>wickets_in_segment</th>\n",
       "      <th>prev_seg_runs</th>\n",
       "      <th>prev_seg_wickets</th>\n",
       "      <th>wickets_at_start</th>\n",
       "      <th>score_at_start</th>\n",
       "      <th>country_Australia</th>\n",
       "      <th>...</th>\n",
       "      <th>opponent_Australia</th>\n",
       "      <th>opponent_Bangladesh</th>\n",
       "      <th>opponent_England</th>\n",
       "      <th>opponent_India</th>\n",
       "      <th>opponent_New Zealand</th>\n",
       "      <th>opponent_Pakistan</th>\n",
       "      <th>opponent_South Africa</th>\n",
       "      <th>opponent_Sri Lanka</th>\n",
       "      <th>opponent_West Indies</th>\n",
       "      <th>opponent_Zimbabwe</th>\n",
       "    </tr>\n",
       "  </thead>\n",
       "  <tbody>\n",
       "    <tr>\n",
       "      <th>0</th>\n",
       "      <td>0</td>\n",
       "      <td>1</td>\n",
       "      <td>24</td>\n",
       "      <td>1</td>\n",
       "      <td>0</td>\n",
       "      <td>0.0</td>\n",
       "      <td>0.0</td>\n",
       "      <td>0.0</td>\n",
       "      <td>0.0</td>\n",
       "      <td>0</td>\n",
       "      <td>...</td>\n",
       "      <td>0</td>\n",
       "      <td>0</td>\n",
       "      <td>0</td>\n",
       "      <td>0</td>\n",
       "      <td>0</td>\n",
       "      <td>0</td>\n",
       "      <td>0</td>\n",
       "      <td>1</td>\n",
       "      <td>0</td>\n",
       "      <td>0</td>\n",
       "    </tr>\n",
       "    <tr>\n",
       "      <th>1</th>\n",
       "      <td>0</td>\n",
       "      <td>1</td>\n",
       "      <td>33</td>\n",
       "      <td>2</td>\n",
       "      <td>1</td>\n",
       "      <td>24.0</td>\n",
       "      <td>0.0</td>\n",
       "      <td>0.0</td>\n",
       "      <td>24.0</td>\n",
       "      <td>0</td>\n",
       "      <td>...</td>\n",
       "      <td>0</td>\n",
       "      <td>0</td>\n",
       "      <td>0</td>\n",
       "      <td>0</td>\n",
       "      <td>0</td>\n",
       "      <td>0</td>\n",
       "      <td>0</td>\n",
       "      <td>1</td>\n",
       "      <td>0</td>\n",
       "      <td>0</td>\n",
       "    </tr>\n",
       "    <tr>\n",
       "      <th>2</th>\n",
       "      <td>0</td>\n",
       "      <td>1</td>\n",
       "      <td>9</td>\n",
       "      <td>3</td>\n",
       "      <td>2</td>\n",
       "      <td>33.0</td>\n",
       "      <td>1.0</td>\n",
       "      <td>1.0</td>\n",
       "      <td>57.0</td>\n",
       "      <td>0</td>\n",
       "      <td>...</td>\n",
       "      <td>0</td>\n",
       "      <td>0</td>\n",
       "      <td>0</td>\n",
       "      <td>0</td>\n",
       "      <td>0</td>\n",
       "      <td>0</td>\n",
       "      <td>0</td>\n",
       "      <td>1</td>\n",
       "      <td>0</td>\n",
       "      <td>0</td>\n",
       "    </tr>\n",
       "    <tr>\n",
       "      <th>3</th>\n",
       "      <td>0</td>\n",
       "      <td>1</td>\n",
       "      <td>16</td>\n",
       "      <td>4</td>\n",
       "      <td>0</td>\n",
       "      <td>9.0</td>\n",
       "      <td>2.0</td>\n",
       "      <td>3.0</td>\n",
       "      <td>66.0</td>\n",
       "      <td>0</td>\n",
       "      <td>...</td>\n",
       "      <td>0</td>\n",
       "      <td>0</td>\n",
       "      <td>0</td>\n",
       "      <td>0</td>\n",
       "      <td>0</td>\n",
       "      <td>0</td>\n",
       "      <td>0</td>\n",
       "      <td>1</td>\n",
       "      <td>0</td>\n",
       "      <td>0</td>\n",
       "    </tr>\n",
       "    <tr>\n",
       "      <th>4</th>\n",
       "      <td>0</td>\n",
       "      <td>1</td>\n",
       "      <td>27</td>\n",
       "      <td>5</td>\n",
       "      <td>0</td>\n",
       "      <td>16.0</td>\n",
       "      <td>0.0</td>\n",
       "      <td>3.0</td>\n",
       "      <td>82.0</td>\n",
       "      <td>0</td>\n",
       "      <td>...</td>\n",
       "      <td>0</td>\n",
       "      <td>0</td>\n",
       "      <td>0</td>\n",
       "      <td>0</td>\n",
       "      <td>0</td>\n",
       "      <td>0</td>\n",
       "      <td>0</td>\n",
       "      <td>1</td>\n",
       "      <td>0</td>\n",
       "      <td>0</td>\n",
       "    </tr>\n",
       "  </tbody>\n",
       "</table>\n",
       "<p>5 rows × 29 columns</p>\n",
       "</div>"
      ],
      "text/plain": [
       "   innings_no  inning  runs_in_segment  over  wickets_in_segment  \\\n",
       "0           0       1               24     1                   0   \n",
       "1           0       1               33     2                   1   \n",
       "2           0       1                9     3                   2   \n",
       "3           0       1               16     4                   0   \n",
       "4           0       1               27     5                   0   \n",
       "\n",
       "   prev_seg_runs  prev_seg_wickets  wickets_at_start  score_at_start  \\\n",
       "0            0.0               0.0               0.0             0.0   \n",
       "1           24.0               0.0               0.0            24.0   \n",
       "2           33.0               1.0               1.0            57.0   \n",
       "3            9.0               2.0               3.0            66.0   \n",
       "4           16.0               0.0               3.0            82.0   \n",
       "\n",
       "   country_Australia        ...          opponent_Australia  \\\n",
       "0                  0        ...                           0   \n",
       "1                  0        ...                           0   \n",
       "2                  0        ...                           0   \n",
       "3                  0        ...                           0   \n",
       "4                  0        ...                           0   \n",
       "\n",
       "   opponent_Bangladesh  opponent_England  opponent_India  \\\n",
       "0                    0                 0               0   \n",
       "1                    0                 0               0   \n",
       "2                    0                 0               0   \n",
       "3                    0                 0               0   \n",
       "4                    0                 0               0   \n",
       "\n",
       "   opponent_New Zealand  opponent_Pakistan  opponent_South Africa  \\\n",
       "0                     0                  0                      0   \n",
       "1                     0                  0                      0   \n",
       "2                     0                  0                      0   \n",
       "3                     0                  0                      0   \n",
       "4                     0                  0                      0   \n",
       "\n",
       "   opponent_Sri Lanka  opponent_West Indies  opponent_Zimbabwe  \n",
       "0                   1                     0                  0  \n",
       "1                   1                     0                  0  \n",
       "2                   1                     0                  0  \n",
       "3                   1                     0                  0  \n",
       "4                   1                     0                  0  \n",
       "\n",
       "[5 rows x 29 columns]"
      ]
     },
     "execution_count": 7,
     "metadata": {},
     "output_type": "execute_result"
    }
   ],
   "source": [
    "segmented_train_data.head()"
   ]
  },
  {
   "cell_type": "code",
   "execution_count": 256,
   "metadata": {},
   "outputs": [
    {
     "name": "stderr",
     "output_type": "stream",
     "text": [
      "[Parallel(n_jobs=1)]: Done 1000 out of 1000 | elapsed:   10.2s finished\n"
     ]
    },
    {
     "data": {
      "text/plain": [
       "Pipeline(memory=None,\n",
       "     steps=[('standardizer', MinMaxScaler(copy=True, feature_range=(0, 1))), ('estimator', RandomForestRegressor(bootstrap=True, criterion='mse', max_depth=None,\n",
       "           max_features='auto', max_leaf_nodes=None,\n",
       "           min_impurity_decrease=0, min_impurity_split=None,\n",
       "           min_samples_leaf=10, min_samples_split=2,\n",
       "           min_weight_fraction_leaf=0.001, n_estimators=1000, n_jobs=1,\n",
       "           oob_score=False, random_state=None, verbose=1, warm_start=False))])"
      ]
     },
     "execution_count": 256,
     "metadata": {},
     "output_type": "execute_result"
    }
   ],
   "source": [
    "\n",
    "rf = RandomForestRegressor(n_estimators=1000, criterion='mse', max_depth=None, min_samples_split=2, \n",
    "                           min_samples_leaf=10, min_weight_fraction_leaf=0.001, max_features='auto', \n",
    "                           max_leaf_nodes=None, min_impurity_decrease=0, verbose=1)\n",
    "\n",
    "multivariateReg = MultiOutputRegressor(rf)\n",
    "\n",
    "\n",
    "xgb = xgboost.XGBRegressor(n_estimators=1000, learning_rate=0.01, max_depth=12, subsample=0.01,\n",
    "                           colsample_bytree=1, min_child_weight=0.001, silent=False, n_jobs=4)\n",
    "\n",
    "rfc = RandomForestClassifier(n_estimators=1000, criterion='gini', max_depth=None, min_samples_split=2, \n",
    "                             min_samples_leaf=1, min_weight_fraction_leaf=0.0, max_features='auto', \n",
    "                             max_leaf_nodes=None, min_impurity_decrease=0.0)\n",
    "\n",
    "lr = LogisticRegression(penalty='l2', dual=False, tol=0.0001, C=1.0, fit_intercept=True, intercept_scaling=1, \n",
    "                        class_weight=None, random_state=None, solver='liblinear', max_iter=5000, \n",
    "                        multi_class='ovr', verbose=2)\n",
    "\n",
    "mlp = MLPClassifier(hidden_layer_sizes=(50), activation='relu', solver='adam', alpha=0.0001, \n",
    "                    batch_size=2, learning_rate='constant', learning_rate_init=0.001, power_t=0.5, \n",
    "                    max_iter=1000)\n",
    "\n",
    "classifier = OneVsRestClassifier(rfc)\n",
    "\n",
    "\n",
    "pipeline = Pipeline([\n",
    "                ('standardizer', MinMaxScaler()),\n",
    "                ('estimator', rf)\n",
    "            ])\n",
    "\n",
    "dropped_features = ['runs_in_segment', 'inning', 'innings_no', 'wickets_in_segment']\n",
    "# dropped_features = ['runs_in_segment', 'inning', 'innings_no']\n",
    "\n",
    "x_train = segmented_train_data.drop(dropped_features, axis=1)\n",
    "# y_train = segmented_train_data[['runs_in_segment', 'wickets_in_segment']]\n",
    "y_train = segmented_train_data['runs_in_segment']                                # <--- Uncomment this to predic runs\n",
    "# y_train = pd.Series(segmented_train_data['wickets_in_segment'], dtype=\"category\")  # <--- Uncomment this to predic wickets\n",
    "# y_train_encoded = y = label_binarize(y_train, classes=list(range(0,7)))\n",
    "\n",
    "\n",
    "x_test = segmented_test_data.drop(dropped_features, axis=1)\n",
    "# y_test = segmented_test_data[['runs_in_segment', 'wickets_in_segment']]\n",
    "y_test = segmented_test_data['runs_in_segment']                               # <--- Uncomment this to predic runs\n",
    "# y_test = pd.Series(segmented_test_data['wickets_in_segment'], dtype=\"category\") # <--- Uncomment this to predic wickets\n",
    "# y_test_encoded = y = label_binarize(y_test, classes=list(range(0,7)))\n",
    "\n",
    "pipeline.fit(x_train, y_train)"
   ]
  },
  {
   "cell_type": "code",
   "execution_count": 257,
   "metadata": {},
   "outputs": [
    {
     "name": "stderr",
     "output_type": "stream",
     "text": [
      "[Parallel(n_jobs=1)]: Done 1000 out of 1000 | elapsed:    0.3s finished\n"
     ]
    }
   ],
   "source": [
    "y_hat = pipeline.predict(x_test)\n",
    "# pipeline.score(x_test, y_test_encoded)"
   ]
  },
  {
   "cell_type": "code",
   "execution_count": 258,
   "metadata": {},
   "outputs": [
    {
     "name": "stdout",
     "output_type": "stream",
     "text": [
      "MSE 91.23734825997477\n",
      "RMSE 9.551824341976499\n"
     ]
    }
   ],
   "source": [
    "# Compare runs prediction\n",
    "results = pd.DataFrame()\n",
    "\n",
    "# results['actual'] = np.argmax(y_test_encoded, axis=1)\n",
    "# results['prediction'] = np.argmax(y_hat, axis=1)\n",
    "\n",
    "results['actual'] = y_test\n",
    "results['prediction'] = y_hat\n",
    "\n",
    "results.reset_index(drop=True, inplace=True)\n",
    "\n",
    "mse = mean_squared_error(results['actual'], results['prediction']);\n",
    "print('MSE', mse)\n",
    "print('RMSE', np.sqrt(mse))"
   ]
  },
  {
   "cell_type": "code",
   "execution_count": 259,
   "metadata": {},
   "outputs": [
    {
     "data": {
      "text/html": [
       "<div>\n",
       "<style scoped>\n",
       "    .dataframe tbody tr th:only-of-type {\n",
       "        vertical-align: middle;\n",
       "    }\n",
       "\n",
       "    .dataframe tbody tr th {\n",
       "        vertical-align: top;\n",
       "    }\n",
       "\n",
       "    .dataframe thead th {\n",
       "        text-align: right;\n",
       "    }\n",
       "</style>\n",
       "<table border=\"1\" class=\"dataframe\">\n",
       "  <thead>\n",
       "    <tr style=\"text-align: right;\">\n",
       "      <th></th>\n",
       "      <th>actual</th>\n",
       "      <th>prediction</th>\n",
       "    </tr>\n",
       "  </thead>\n",
       "  <tbody>\n",
       "    <tr>\n",
       "      <th>0</th>\n",
       "      <td>22</td>\n",
       "      <td>19.080657</td>\n",
       "    </tr>\n",
       "    <tr>\n",
       "      <th>1</th>\n",
       "      <td>23</td>\n",
       "      <td>27.055249</td>\n",
       "    </tr>\n",
       "    <tr>\n",
       "      <th>2</th>\n",
       "      <td>14</td>\n",
       "      <td>24.527892</td>\n",
       "    </tr>\n",
       "    <tr>\n",
       "      <th>3</th>\n",
       "      <td>24</td>\n",
       "      <td>19.753505</td>\n",
       "    </tr>\n",
       "    <tr>\n",
       "      <th>4</th>\n",
       "      <td>26</td>\n",
       "      <td>24.077008</td>\n",
       "    </tr>\n",
       "  </tbody>\n",
       "</table>\n",
       "</div>"
      ],
      "text/plain": [
       "   actual  prediction\n",
       "0      22   19.080657\n",
       "1      23   27.055249\n",
       "2      14   24.527892\n",
       "3      24   19.753505\n",
       "4      26   24.077008"
      ]
     },
     "execution_count": 259,
     "metadata": {},
     "output_type": "execute_result"
    }
   ],
   "source": [
    "results.head()"
   ]
  },
  {
   "cell_type": "code",
   "execution_count": 260,
   "metadata": {},
   "outputs": [
    {
     "data": {
      "image/png": "[encoded data removed]",
      "text/plain": [
       "<matplotlib.figure.Figure at 0x7f9d72e4f588>"
      ]
     },
     "metadata": {},
     "output_type": "display_data"
    }
   ],
   "source": [
    "plt.figure(1, figsize = (10,5))\n",
    "plt.xlabel('overs')\n",
    "plt.ylabel('error')\n",
    "t = linspace(0, 50, 10)\n",
    "\n",
    "compare = pd.DataFrame()\n",
    "compare['error'] = (results['actual'] - results['prediction']).abs()\n",
    "compare['segment'] = segmented_test_data['over'] * 5\n",
    "compare_per_segment = compare.groupby(['segment'], as_index=False).mean()\n",
    "\n",
    "plt.plot(t, compare_per_segment['error'])\n",
    "# plt.scatter(comparePerOver['balls'], comparePerOver['error'])\n",
    "\n",
    "\n",
    "# PLot the datamining aproach results to comprae as our base model\n",
    "\n",
    "# t = [0, 5, 10]\n",
    "dmModel = [24, 25.5, 24, 23, 21, 20, 20, 18, 13.5, 8, 0]\n",
    "\n",
    "baileyModel = [42, 40.5, 35, 32, 30, 26, 24, 20, 15, 11, 0]\n",
    "\n",
    "\n",
    "# dmModel = [13.5, 8, 0]\n",
    "overs = pd.DataFrame(t)\n",
    "# plt.plot(t, dmModel)\n",
    "# plt.plot(t, baileyModel)\n",
    "plt.grid()\n",
    "plt.show()"
   ]
  },
  {
   "cell_type": "code",
   "execution_count": 186,
   "metadata": {},
   "outputs": [
    {
     "data": {
      "text/plain": [
       "<Container object of 25 artists>"
      ]
     },
     "execution_count": 186,
     "metadata": {},
     "output_type": "execute_result"
    },
    {
     "data": {
      "image/png": "[encoded data removed]",
      "text/plain": [
       "<matplotlib.figure.Figure at 0x7f9d758d5860>"
      ]
     },
     "metadata": {},
     "output_type": "display_data"
    }
   ],
   "source": [
    "y = pipeline.named_steps['estimator'].feature_importances_\n",
    "N = len(y)\n",
    "x = range(N)\n",
    "width = 1/1.5\n",
    "plt.bar(x, y, width, color=\"blue\")"
   ]
  },
  {
   "cell_type": "code",
   "execution_count": 28,
   "metadata": {},
   "outputs": [],
   "source": [
    "from sklearn import svm, datasets\n",
    "from sklearn.metrics import roc_curve, auc\n",
    "from sklearn.model_selection import train_test_split\n",
    "from sklearn.preprocessing import label_binarize\n",
    "from sklearn.multiclass import OneVsRestClassifier\n",
    "from scipy import interp\n",
    "\n",
    "# Import some data to play with\n",
    "iris = datasets.load_iris()\n",
    "X = iris.data\n",
    "y = iris.target\n",
    "\n",
    "# Binarize the output\n",
    "y = label_binarize(y, classes=[0, 1, 2])\n",
    "n_classes = y.shape[1]\n",
    "\n",
    "# Add noisy features to make the problem harder\n",
    "random_state = np.random.RandomState(0)\n",
    "n_samples, n_features = X.shape\n",
    "X = np.c_[X, random_state.randn(n_samples, 200 * n_features)]"
   ]
  },
  {
   "cell_type": "code",
   "execution_count": 154,
   "metadata": {},
   "outputs": [
    {
     "data": {
      "text/plain": [
       "array([[0, 1, 0, ..., 0, 0, 0],\n",
       "       [0, 0, 0, ..., 0, 0, 0],\n",
       "       [1, 0, 0, ..., 0, 0, 0],\n",
       "       ...,\n",
       "       [0, 0, 0, ..., 0, 0, 0],\n",
       "       [0, 1, 0, ..., 0, 0, 0],\n",
       "       [0, 1, 0, ..., 0, 0, 0]])"
      ]
     },
     "execution_count": 154,
     "metadata": {},
     "output_type": "execute_result"
    }
   ],
   "source": [
    "y_hat"
   ]
  }
 ],
 "metadata": {
  "kernelspec": {
   "display_name": "Python 3",
   "language": "python",
   "name": "python3"
  },
  "language_info": {
   "codemirror_mode": {
    "name": "ipython",
    "version": 3
   },
   "file_extension": ".py",
   "mimetype": "text/x-python",
   "name": "python",
   "nbconvert_exporter": "python",
   "pygments_lexer": "ipython3",
   "version": "3.6.4"
  }
 },
 "nbformat": 4,
 "nbformat_minor": 2
}
